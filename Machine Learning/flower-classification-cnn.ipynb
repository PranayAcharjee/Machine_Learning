{
 "cells": [
  {
   "cell_type": "markdown",
   "metadata": {},
   "source": [
    "# **Flower Classification CNN**"
   ]
  },
  {
   "cell_type": "code",
   "execution_count": 1,
   "metadata": {
    "_cell_guid": "b1076dfc-b9ad-4769-8c92-a6c4dae69d19",
    "_uuid": "8f2839f25d086af736a60e9eeb907d3b93b6e0e5"
   },
   "outputs": [
    {
     "name": "stderr",
     "output_type": "stream",
     "text": [
      "Using TensorFlow backend.\n"
     ]
    }
   ],
   "source": [
    "import keras\n",
    "from keras.models import Sequential\n",
    "from keras.layers import Flatten, Dense, Dropout ,BatchNormalization\n",
    "from keras.layers.convolutional import Conv2D, MaxPooling2D, ZeroPadding2D\n",
    "from keras.applications.resnet50 import ResNet50\n",
    "from keras.callbacks import ModelCheckpoint, EarlyStopping, ReduceLROnPlateau\n",
    "from keras.models import load_model\n",
    "from keras.preprocessing.image import ImageDataGenerator\n",
    "from keras.preprocessing import image\n",
    "from keras import models\n",
    "\n",
    "import pandas as pd\n",
    "import numpy as np\n",
    "import time\n",
    "import datetime\n",
    "import matplotlib.pyplot as plt"
   ]
  },
  {
   "cell_type": "code",
   "execution_count": 2,
   "metadata": {},
   "outputs": [],
   "source": [
    "train_images = 40591 #number of train images\n",
    "val_images = 10101 #number of validation images\n",
    "train_batchsize = 50 #number of train images in each batch\n",
    "val_batchsize = 50 #number of validation images in each batch\n",
    "img_shape=(224,224) #image shape"
   ]
  },
  {
   "cell_type": "code",
   "execution_count": 3,
   "metadata": {
    "_cell_guid": "79c7e3d0-c299-4dcb-8224-4455121ee9b0",
    "_uuid": "d629ff2d2480ee46fbb7e2d37f6b5fab8052498a"
   },
   "outputs": [
    {
     "name": "stdout",
     "output_type": "stream",
     "text": [
      "Found 40591 images belonging to 102 classes.\n",
      "Found 10101 images belonging to 102 classes.\n"
     ]
    }
   ],
   "source": [
    "#since the dataset is huge, we use generators to train the model\n",
    "train_datagen = ImageDataGenerator(rescale=1./255)\n",
    "x_train = train_datagen.flow_from_directory(\n",
    "    directory=r'../input/flower-datatree/datatree/train/', #location of train images\n",
    "    batch_size=train_batchsize,\n",
    "    target_size=img_shape,\n",
    "    class_mode=\"categorical\", #classification \n",
    "    shuffle=True, #shuffling the train images\n",
    "    seed=42 #seed for the shuffle\n",
    ")\n",
    "\n",
    "validation_datagen = ImageDataGenerator(rescale=1./255)\n",
    "x_validation = validation_datagen.flow_from_directory(\n",
    "    directory=r'../input/flower-datatree/datatree/validation/', #location of validation images\n",
    "    batch_size=val_batchsize,\n",
    "    target_size=img_shape,\n",
    "    class_mode=\"categorical\", #classification\n",
    "    shuffle=True, #shuffling the validation images\n",
    "    seed=42 #seed for the shuffle\n",
    ")\n"
   ]
  },
  {
   "cell_type": "code",
   "execution_count": 4,
   "metadata": {},
   "outputs": [
    {
     "name": "stdout",
     "output_type": "stream",
     "text": [
      "Downloading data from https://github.com/fchollet/deep-learning-models/releases/download/v0.2/resnet50_weights_tf_dim_ordering_tf_kernels_notop.h5\n",
      "94658560/94653016 [==============================] - 1s 0us/step\n",
      "Model: \"sequential_1\"\n",
      "_________________________________________________________________\n",
      "Layer (type)                 Output Shape              Param #   \n",
      "=================================================================\n",
      "resnet50 (Model)             (None, 2048)              23587712  \n",
      "_________________________________________________________________\n",
      "dense_1 (Dense)              (None, 102)               208998    \n",
      "=================================================================\n",
      "Total params: 23,796,710\n",
      "Trainable params: 23,743,590\n",
      "Non-trainable params: 53,120\n",
      "_________________________________________________________________\n"
     ]
    }
   ],
   "source": [
    "#building the model architecture\n",
    "\n",
    "model = Sequential()\n",
    "\n",
    "model.add(ResNet50(include_top=False, pooling='avg', weights='imagenet'))\n",
    "\n",
    "model.add(Dense(102, activation='softmax'))\n",
    "\n",
    "model.compile(loss='categorical_crossentropy', optimizer='adam', metrics=['acc'])\n",
    "\n",
    "model.summary()"
   ]
  },
  {
   "cell_type": "code",
   "execution_count": 5,
   "metadata": {},
   "outputs": [
    {
     "name": "stdout",
     "output_type": "stream",
     "text": [
      "811 202\n"
     ]
    }
   ],
   "source": [
    "train_steps=int(np.ceil(train_images//train_batchsize)) #number of steps for training the model\n",
    "val_steps=int(np.ceil(val_images//val_batchsize)) #number of steps for validating the model\n",
    "print(train_steps,val_steps)"
   ]
  },
  {
   "cell_type": "code",
   "execution_count": 6,
   "metadata": {},
   "outputs": [],
   "source": [
    "early_stop = EarlyStopping(monitor='val_loss', min_delta=0.0001, patience=3, verbose=1, mode='auto')\n",
    "# Reducing the learning Rate if result is not improving\n",
    "reduce_lr = ReduceLROnPlateau(monitor='val_loss', min_delta=0.0004, patience=2, factor=0.1, min_lr=1e-6, mode='auto',verbose=1)\n"
   ]
  },
  {
   "cell_type": "code",
   "execution_count": 7,
   "metadata": {},
   "outputs": [],
   "source": [
    "savepath=\"flowermodel.hdf5\"\n",
    "checkpoint = ModelCheckpoint(savepath, monitor='val_acc', verbose=1, save_best_only=True, mode='max') \n",
    "#saves the model only with the highest validation accuracy"
   ]
  },
  {
   "cell_type": "code",
   "execution_count": 8,
   "metadata": {},
   "outputs": [
    {
     "name": "stdout",
     "output_type": "stream",
     "text": [
      "Epoch 1/20\n",
      "811/811 [==============================] - 356s 439ms/step - loss: 0.7498 - acc: 0.7985 - val_loss: 3.5941 - val_acc: 0.2884\n",
      "\n",
      "Epoch 00001: val_acc improved from -inf to 0.28842, saving model to flowermodel.hdf5\n",
      "Epoch 2/20\n",
      "811/811 [==============================] - 326s 402ms/step - loss: 0.1558 - acc: 0.9536 - val_loss: 0.4080 - val_acc: 0.8820\n",
      "\n",
      "Epoch 00002: val_acc improved from 0.28842 to 0.88200, saving model to flowermodel.hdf5\n",
      "Epoch 3/20\n",
      "811/811 [==============================] - 324s 400ms/step - loss: 0.1037 - acc: 0.9690 - val_loss: 0.8308 - val_acc: 0.6956\n",
      "\n",
      "Epoch 00003: val_acc did not improve from 0.88200\n",
      "Epoch 4/20\n",
      "811/811 [==============================] - 324s 400ms/step - loss: 0.0712 - acc: 0.9792 - val_loss: 0.2329 - val_acc: 0.9264\n",
      "\n",
      "Epoch 00004: val_acc improved from 0.88200 to 0.92638, saving model to flowermodel.hdf5\n",
      "Epoch 5/20\n",
      "811/811 [==============================] - 323s 398ms/step - loss: 0.0696 - acc: 0.9794 - val_loss: 0.2182 - val_acc: 0.9292\n",
      "\n",
      "Epoch 00005: val_acc improved from 0.92638 to 0.92916, saving model to flowermodel.hdf5\n",
      "Epoch 6/20\n",
      "811/811 [==============================] - 324s 400ms/step - loss: 0.0532 - acc: 0.9843 - val_loss: 0.2178 - val_acc: 0.9436\n",
      "\n",
      "Epoch 00006: val_acc improved from 0.92916 to 0.94359, saving model to flowermodel.hdf5\n",
      "Epoch 7/20\n",
      "811/811 [==============================] - 323s 398ms/step - loss: 0.0497 - acc: 0.9850 - val_loss: 0.3498 - val_acc: 0.8892\n",
      "\n",
      "Epoch 00007: ReduceLROnPlateau reducing learning rate to 0.00010000000474974513.\n",
      "\n",
      "Epoch 00007: val_acc did not improve from 0.94359\n",
      "Epoch 8/20\n",
      "811/811 [==============================] - 324s 400ms/step - loss: 0.0085 - acc: 0.9981 - val_loss: 4.2733e-04 - val_acc: 0.9982\n",
      "\n",
      "Epoch 00008: val_acc improved from 0.94359 to 0.99821, saving model to flowermodel.hdf5\n",
      "Epoch 9/20\n",
      "811/811 [==============================] - 323s 399ms/step - loss: 0.0016 - acc: 1.0000 - val_loss: 0.0051 - val_acc: 0.9990\n",
      "\n",
      "Epoch 00009: val_acc improved from 0.99821 to 0.99901, saving model to flowermodel.hdf5\n",
      "Epoch 10/20\n",
      "811/811 [==============================] - 324s 399ms/step - loss: 8.1876e-04 - acc: 1.0000 - val_loss: 0.0015 - val_acc: 0.9994\n",
      "\n",
      "Epoch 00010: ReduceLROnPlateau reducing learning rate to 1.0000000474974514e-05.\n",
      "\n",
      "Epoch 00010: val_acc improved from 0.99901 to 0.99940, saving model to flowermodel.hdf5\n",
      "Epoch 11/20\n",
      "811/811 [==============================] - 324s 399ms/step - loss: 6.6604e-04 - acc: 1.0000 - val_loss: 0.0048 - val_acc: 0.9994\n",
      "\n",
      "Epoch 00011: val_acc did not improve from 0.99940\n",
      "Epoch 00011: early stopping\n",
      "training time: 1:00:24.433135\n"
     ]
    }
   ],
   "source": [
    "start=time.time()\n",
    "cnn=model.fit_generator(x_train,steps_per_epoch = train_steps,validation_data=x_validation,validation_steps = val_steps,epochs=20,callbacks=[early_stop, reduce_lr , checkpoint],verbose=1)  \n",
    "end=time.time()\n",
    "\n",
    "print('training time: '+str(datetime.timedelta(seconds=(end-start))))"
   ]
  },
  {
   "cell_type": "code",
   "execution_count": 9,
   "metadata": {},
   "outputs": [
    {
     "name": "stdout",
     "output_type": "stream",
     "text": [
      "dict_keys(['val_loss', 'val_acc', 'loss', 'acc', 'lr'])\n"
     ]
    },
    {
     "data": {
      "image/png": "[encoded data removed]",
      "text/plain": [
       "<Figure size 432x288 with 1 Axes>"
      ]
     },
     "metadata": {
      "needs_background": "light"
     },
     "output_type": "display_data"
    },
    {
     "data": {
      "image/png": "[encoded data removed]",
      "text/plain": [
       "<Figure size 432x288 with 1 Axes>"
      ]
     },
     "metadata": {
      "needs_background": "light"
     },
     "output_type": "display_data"
    }
   ],
   "source": [
    "#accuracy\n",
    "print(cnn.history.keys())\n",
    "plt.plot(cnn.history['acc'])\n",
    "plt.plot(cnn.history['val_acc'])\n",
    "plt.title('Model Accuracy')\n",
    "plt.ylabel('Accuracy')\n",
    "plt.xlabel('Epoch')\n",
    "plt.plot(np.argmax(cnn.history[\"val_acc\"]), np.max(cnn.history[\"val_acc\"]), marker=\"x\", color=\"r\",label=\"best model\")\n",
    "plt.legend(['Training set', 'Test set','best'], loc='upper left')\n",
    "plt.show()\n",
    "\n",
    "#loss\n",
    "plt.plot(cnn.history['loss'])\n",
    "plt.plot(cnn.history['val_loss'])\n",
    "plt.title('Loss')\n",
    "plt.ylabel('Loss')\n",
    "plt.xlabel('Epoch')\n",
    "plt.legend(['Training set', 'Test set'], loc='upper left')\n",
    "plt.show()"
   ]
  },
  {
   "cell_type": "markdown",
   "metadata": {},
   "source": [
    "# **Predciting test data using the trained model**"
   ]
  },
  {
   "cell_type": "code",
   "execution_count": 10,
   "metadata": {},
   "outputs": [
    {
     "name": "stdout",
     "output_type": "stream",
     "text": [
      "Found 2009 images belonging to 1 classes.\n"
     ]
    }
   ],
   "source": [
    "test_datagen = ImageDataGenerator(rescale=1./255)\n",
    "x_test = test_datagen.flow_from_directory(\n",
    "    directory=r'../input/flower-datatree/datatree/',\n",
    "    target_size=img_shape,\n",
    "    classes=['test'],\n",
    "    batch_size=1,\n",
    "    shuffle=False\n",
    ")"
   ]
  },
  {
   "cell_type": "code",
   "execution_count": 11,
   "metadata": {},
   "outputs": [
    {
     "name": "stdout",
     "output_type": "stream",
     "text": [
      "2009/2009 [==============================] - 28s 14ms/step\n",
      "[[8.0177529e-16 5.2588299e-17 1.1371293e-15 ... 4.3500967e-13\n",
      "  1.8330418e-05 3.1954911e-11]\n",
      " [1.8883219e-07 4.4485281e-13 1.7704398e-14 ... 1.3758020e-06\n",
      "  1.6046554e-12 3.2184135e-13]\n",
      " [1.9805233e-07 1.0196191e-13 2.8203309e-10 ... 7.7692105e-04\n",
      "  6.7728818e-09 6.3231454e-08]\n",
      " ...\n",
      " [5.6849391e-08 2.8421940e-14 3.7241236e-08 ... 1.0566724e-03\n",
      "  6.6066729e-03 4.7926053e-05]\n",
      " [5.1864423e-18 1.0115157e-26 8.4832464e-20 ... 4.1592916e-18\n",
      "  5.6243225e-11 1.4062984e-16]\n",
      " [5.1993390e-15 2.5627806e-21 1.9357501e-14 ... 2.4378635e-14\n",
      "  5.5829417e-11 4.2685883e-26]]\n"
     ]
    }
   ],
   "source": [
    "test_images = 2009\n",
    "\n",
    "test_stepsize = test_images\n",
    "x_test.reset() #\n",
    "predict = model.predict_generator(x_test ,steps=test_stepsize , verbose=1)\n",
    "print(predict)"
   ]
  },
  {
   "cell_type": "code",
   "execution_count": 12,
   "metadata": {},
   "outputs": [
    {
     "data": {
      "text/plain": [
       "(2009, 102)"
      ]
     },
     "execution_count": 12,
     "metadata": {},
     "output_type": "execute_result"
    }
   ],
   "source": [
    "predict.shape"
   ]
  },
  {
   "cell_type": "code",
   "execution_count": 13,
   "metadata": {},
   "outputs": [],
   "source": [
    "predictions=[] #saving all the prediction on the test images\n",
    "for i in predict:\n",
    "    predictions.append(np.argmax(i)+1)"
   ]
  },
  {
   "cell_type": "code",
   "execution_count": 14,
   "metadata": {},
   "outputs": [],
   "source": [
    "#undoing the sorting of the categories caused by ImageDataGenerator\n",
    "####very very important####\n",
    "actual=[str(i) for i in range(1,103)]\n",
    "gen=sorted(actual)\n",
    "\n",
    "labels={}\n",
    "\n",
    "for i in range(1,103):\n",
    "    labels[i]=int(gen[i-1])\n",
    "n_predictions=[]\n",
    "for i in predictions:\n",
    "    n_predictions.append(labels[i])\n",
    "\n",
    "predictions = n_predictions"
   ]
  },
  {
   "cell_type": "code",
   "execution_count": 15,
   "metadata": {},
   "outputs": [],
   "source": [
    "from collections import Counter\n",
    "freq=Counter()\n",
    "freq.update(predictions)"
   ]
  },
  {
   "cell_type": "code",
   "execution_count": 16,
   "metadata": {},
   "outputs": [
    {
     "data": {
      "image/png": "[encoded data removed]",
      "text/plain": [
       "<Figure size 1440x360 with 1 Axes>"
      ]
     },
     "metadata": {
      "needs_background": "light"
     },
     "output_type": "display_data"
    }
   ],
   "source": [
    "import matplotlib.pylab as plt\n",
    "\n",
    "lists = sorted(freq.items()) # sorted by key, return a list of tuples\n",
    "x, y = zip(*lists) # unpack a list of pairs into two tuples\n",
    "plt.figure(figsize=(20,5))\n",
    "plt.bar(x, y)\n",
    "plt.xlabel('category')\n",
    "plt.ylabel('number of images')\n",
    "plt.title(\"test results\")\n",
    "plt.show()"
   ]
  },
  {
   "cell_type": "code",
   "execution_count": 17,
   "metadata": {},
   "outputs": [],
   "source": [
    "names=[i for i in range(18540,20549)]\n",
    "results = pd.Series(predictions,name = \"category\")\n",
    "names=pd.Series(names,name = \"image_id\")\n",
    "submission = pd.concat([names,results],axis = 1)\n",
    "submission.to_csv(\"output.csv\",index=False)"
   ]
  }
 ],
 "metadata": {
  "kernelspec": {
   "display_name": "Python 3",
   "language": "python",
   "name": "python3"
  },
  "language_info": {
   "codemirror_mode": {
    "name": "ipython",
    "version": 3
   },
   "file_extension": ".py",
   "mimetype": "text/x-python",
   "name": "python",
   "nbconvert_exporter": "python",
   "pygments_lexer": "ipython3",
   "version": "3.6.6"
  }
 },
 "nbformat": 4,
 "nbformat_minor": 2
}
